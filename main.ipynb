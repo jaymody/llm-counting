{
 "cells": [
  {
   "cell_type": "code",
   "execution_count": 1,
   "metadata": {},
   "outputs": [],
   "source": [
    "from sympy import Symbol, MatrixSymbol, Function\n",
    "\n",
    "from model import (\n",
    "    repeat,\n",
    "    count,\n",
    "    tree_map,\n",
    "    Embeddings,\n",
    "    ScaledDotProductAttention,\n",
    "    MultiHeadAttention,\n",
    "    PositionWiseFFN,\n",
    "    LayerNorm,\n",
    "    Block,\n",
    "    Transformer,\n",
    ")\n"
   ]
  },
  {
   "cell_type": "code",
   "execution_count": 2,
   "metadata": {},
   "outputs": [],
   "source": [
    "l = Symbol(\"l\")\n",
    "d_model = Symbol(r\"d_{model}\")\n",
    "d_ff = Symbol(r\"d_{ff}\")\n",
    "n_vocab = Symbol(r\"n_{vocab}\")\n",
    "n_layers = Symbol(r\"n_{layers}\")\n",
    "n_heads = Symbol(r\"n_{heads}\")\n",
    "\n",
    "inputs = MatrixSymbol(\"\\text{inputs}\", 1, l)\n",
    "\n",
    "softmax = Function(r\"\\text{softmax}\")\n",
    "relu = Function(r\"\\text{relu}\")"
   ]
  },
  {
   "cell_type": "code",
   "execution_count": 3,
   "metadata": {},
   "outputs": [
    {
     "data": {
      "text/latex": [
       "$\\displaystyle d_{model} l$"
      ],
      "text/plain": [
       "d_{model}*l"
      ]
     },
     "execution_count": 3,
     "metadata": {},
     "output_type": "execute_result"
    }
   ],
   "source": [
    "Embeddings(l, d_model, n_vocab).flops_count"
   ]
  },
  {
   "cell_type": "code",
   "execution_count": 4,
   "metadata": {},
   "outputs": [
    {
     "data": {
      "text/latex": [
       "$\\displaystyle 4 d_{model} l^{2} + 5 l^{2}$"
      ],
      "text/plain": [
       "4*d_{model}*l**2 + 5*l**2"
      ]
     },
     "execution_count": 4,
     "metadata": {},
     "output_type": "execute_result"
    }
   ],
   "source": [
    "ScaledDotProductAttention(l, l, d_model, d_model).flops_count"
   ]
  },
  {
   "cell_type": "code",
   "execution_count": 5,
   "metadata": {},
   "outputs": [
    {
     "data": {
      "text/latex": [
       "$\\displaystyle 8 d_{model}^{2} l n_{heads} + 4 d_{model} l^{2} n_{heads} + 5 l^{2} n_{heads}$"
      ],
      "text/plain": [
       "8*d_{model}**2*l*n_{heads} + 4*d_{model}*l**2*n_{heads} + 5*l**2*n_{heads}"
      ]
     },
     "execution_count": 5,
     "metadata": {},
     "output_type": "execute_result"
    }
   ],
   "source": [
    "MultiHeadAttention(l, l, d_model, d_model, d_model, n_heads).flops_count"
   ]
  },
  {
   "cell_type": "code",
   "execution_count": 6,
   "metadata": {},
   "outputs": [
    {
     "data": {
      "text/latex": [
       "$\\displaystyle 4 d_{ff} d_{model} l + d_{ff} + d_{model}$"
      ],
      "text/plain": [
       "4*d_{ff}*d_{model}*l + d_{ff} + d_{model}"
      ]
     },
     "execution_count": 6,
     "metadata": {},
     "output_type": "execute_result"
    }
   ],
   "source": [
    "PositionWiseFFN(l, d_model, d_ff, d_model).flops_count"
   ]
  },
  {
   "cell_type": "code",
   "execution_count": 7,
   "metadata": {},
   "outputs": [
    {
     "data": {
      "text/latex": [
       "$\\displaystyle 6 d_{model} l + 7 d_{model}$"
      ],
      "text/plain": [
       "6*d_{model}*l + 7*d_{model}"
      ]
     },
     "execution_count": 7,
     "metadata": {},
     "output_type": "execute_result"
    }
   ],
   "source": [
    "LayerNorm(l, d_model).flops_count"
   ]
  },
  {
   "cell_type": "code",
   "execution_count": 8,
   "metadata": {},
   "outputs": [
    {
     "data": {
      "text/latex": [
       "$\\displaystyle 4 d_{ff} d_{model} l + d_{ff} + 8 d_{model}^{2} l + 4 d_{model} l^{2} + 14 d_{model} l + 15 d_{model} + 5 l^{2} n_{heads}$"
      ],
      "text/plain": [
       "4*d_{ff}*d_{model}*l + d_{ff} + 8*d_{model}**2*l + 4*d_{model}*l**2 + 14*d_{model}*l + 15*d_{model} + 5*l**2*n_{heads}"
      ]
     },
     "execution_count": 8,
     "metadata": {},
     "output_type": "execute_result"
    }
   ],
   "source": [
    "Block(l, d_model, d_ff, n_heads).flops_count"
   ]
  },
  {
   "cell_type": "code",
   "execution_count": 9,
   "metadata": {},
   "outputs": [
    {
     "data": {
      "text/latex": [
       "$\\displaystyle 4 d_{ff} d_{model} l n_{layers} + d_{ff} n_{layers} + 8 d_{model}^{2} l n_{layers} + 4 d_{model} l^{2} n_{layers} + 12 d_{model} l n_{layers} + 2 d_{model} l n_{vocab} + 7 d_{model} l + 13 d_{model} n_{layers} + 7 d_{model} + 5 l^{2} n_{heads} n_{layers} + n_{layers} \\left(2 d_{model} l + 2 d_{model}\\right)$"
      ],
      "text/plain": [
       "4*d_{ff}*d_{model}*l*n_{layers} + d_{ff}*n_{layers} + 8*d_{model}**2*l*n_{layers} + 4*d_{model}*l**2*n_{layers} + 12*d_{model}*l*n_{layers} + 2*d_{model}*l*n_{vocab} + 7*d_{model}*l + 13*d_{model}*n_{layers} + 7*d_{model} + 5*l**2*n_{heads}*n_{layers} + n_{layers}*(2*d_{model}*l + 2*d_{model})"
      ]
     },
     "execution_count": 9,
     "metadata": {},
     "output_type": "execute_result"
    }
   ],
   "source": [
    "flops = Transformer(l, d_model, d_ff, n_vocab, n_layers, n_heads).flops_count\n",
    "flops"
   ]
  },
  {
   "cell_type": "code",
   "execution_count": 10,
   "metadata": {},
   "outputs": [
    {
     "data": {
      "text/latex": [
       "$\\displaystyle 8 d^{2} l n + 4 d f l n + 4 d l^{2} n + 12 d l n + 2 d l v + 7 d l + 13 d n + 7 d + f n + 5 h l^{2} n + n \\left(2 d l + 2 d\\right)$"
      ],
      "text/plain": [
       "8*d**2*l*n + 4*d*f*l*n + 4*d*l**2*n + 12*d*l*n + 2*d*l*v + 7*d*l + 13*d*n + 7*d + f*n + 5*h*l**2*n + n*(2*d*l + 2*d)"
      ]
     },
     "execution_count": 10,
     "metadata": {},
     "output_type": "execute_result"
    }
   ],
   "source": [
    "flops = flops.subs(d_model, Symbol(\"d\"))\n",
    "flops = flops.subs(d_ff, Symbol(\"f\"))\n",
    "flops = flops.subs(n_layers, Symbol(\"n\"))\n",
    "flops = flops.subs(n_vocab, Symbol(\"v\"))\n",
    "flops = flops.subs(n_heads, Symbol(\"h\"))\n",
    "flops"
   ]
  },
  {
   "cell_type": "code",
   "execution_count": 11,
   "metadata": {},
   "outputs": [
    {
     "data": {
      "text/latex": [
       "$\\displaystyle 13 d n + 7 d + f n + l^{2} \\cdot \\left(4 d n + 5 h n\\right) + l \\left(8 d^{2} n + 4 d f n + 12 d n + 2 d v + 7 d\\right) + n \\left(2 d l + 2 d\\right)$"
      ],
      "text/plain": [
       "13*d*n + 7*d + f*n + l**2*(4*d*n + 5*h*n) + l*(8*d**2*n + 4*d*f*n + 12*d*n + 2*d*v + 7*d) + n*(2*d*l + 2*d)"
      ]
     },
     "execution_count": 11,
     "metadata": {},
     "output_type": "execute_result"
    }
   ],
   "source": [
    "flops.collect(\"l\")"
   ]
  },
  {
   "cell_type": "code",
   "execution_count": 12,
   "metadata": {},
   "outputs": [
    {
     "data": {
      "text/latex": [
       "$\\displaystyle 8 d^{2} l n + d \\left(4 f l n + 4 l^{2} n + 12 l n + 2 l v + 7 l + n \\left(2 l + 2\\right) + 13 n + 7\\right) + f n + 5 h l^{2} n$"
      ],
      "text/plain": [
       "8*d**2*l*n + d*(4*f*l*n + 4*l**2*n + 12*l*n + 2*l*v + 7*l + n*(2*l + 2) + 13*n + 7) + f*n + 5*h*l**2*n"
      ]
     },
     "execution_count": 12,
     "metadata": {},
     "output_type": "execute_result"
    }
   ],
   "source": [
    "flops.collect(\"d\")"
   ]
  },
  {
   "cell_type": "code",
   "execution_count": 13,
   "metadata": {},
   "outputs": [
    {
     "data": {
      "text/latex": [
       "$\\displaystyle 8 d^{2} l n + 4 d l^{2} n + 12 d l n + 2 d l v + 7 d l + 13 d n + 7 d + f \\left(4 d l n + n\\right) + 5 h l^{2} n + n \\left(2 d l + 2 d\\right)$"
      ],
      "text/plain": [
       "8*d**2*l*n + 4*d*l**2*n + 12*d*l*n + 2*d*l*v + 7*d*l + 13*d*n + 7*d + f*(4*d*l*n + n) + 5*h*l**2*n + n*(2*d*l + 2*d)"
      ]
     },
     "execution_count": 13,
     "metadata": {},
     "output_type": "execute_result"
    }
   ],
   "source": [
    "flops.collect(\"f\")"
   ]
  },
  {
   "cell_type": "code",
   "execution_count": 14,
   "metadata": {},
   "outputs": [
    {
     "data": {
      "text/latex": [
       "$\\displaystyle 8 d^{2} l n + 4 d f l n + 4 d l^{2} n + 12 d l n + 2 d l v + 7 d l + 13 d n + 7 d + f n + 5 h l^{2} n + n \\left(2 d l + 2 d\\right)$"
      ],
      "text/plain": [
       "8*d**2*l*n + 4*d*f*l*n + 4*d*l**2*n + 12*d*l*n + 2*d*l*v + 7*d*l + 13*d*n + 7*d + f*n + 5*h*l**2*n + n*(2*d*l + 2*d)"
      ]
     },
     "execution_count": 14,
     "metadata": {},
     "output_type": "execute_result"
    }
   ],
   "source": [
    "flops.collect(\"v\")"
   ]
  },
  {
   "cell_type": "code",
   "execution_count": 15,
   "metadata": {},
   "outputs": [
    {
     "data": {
      "text/latex": [
       "$\\displaystyle 8 d^{2} l n + 4 d f l n + 4 d l^{2} n + 12 d l n + 2 d l v + 7 d l + 13 d n + 7 d + f n + 5 h l^{2} n + n \\left(2 d l + 2 d\\right)$"
      ],
      "text/plain": [
       "8*d**2*l*n + 4*d*f*l*n + 4*d*l**2*n + 12*d*l*n + 2*d*l*v + 7*d*l + 13*d*n + 7*d + f*n + 5*h*l**2*n + n*(2*d*l + 2*d)"
      ]
     },
     "execution_count": 15,
     "metadata": {},
     "output_type": "execute_result"
    }
   ],
   "source": [
    "flops.collect(\"h\")"
   ]
  },
  {
   "cell_type": "markdown",
   "metadata": {},
   "source": [
    "---"
   ]
  },
  {
   "cell_type": "code",
   "execution_count": 16,
   "metadata": {},
   "outputs": [
    {
     "data": {
      "text/plain": [
       "51248964096"
      ]
     },
     "execution_count": 16,
     "metadata": {},
     "output_type": "execute_result"
    }
   ],
   "source": [
    "def count_flops(N, l, d_model, d_ff, n_vocab, n_layers, n_heads):\n",
    "    return int(N*Transformer(l, d_model, d_ff, n_vocab, n_layers, n_heads).flops_count)\n",
    "\n",
    "count_flops(\n",
    "    N=1,\n",
    "    l=512,\n",
    "    d_model=512,\n",
    "    d_ff=4096,\n",
    "    n_vocab=30000,\n",
    "    n_layers=6,\n",
    "    n_heads=8,\n",
    ")"
   ]
  },
  {
   "cell_type": "code",
   "execution_count": 17,
   "metadata": {},
   "outputs": [
    {
     "data": {
      "text/plain": [
       "{'Embeddings': {'X_word + X_pos': 262144},\n",
       " 'LayerNorm_Final': {'mean(x)': 262656,\n",
       "  'var_x': {'X**2': 262144,\n",
       "   'sum': 262144,\n",
       "   '/ m': 512,\n",
       "   'mean_x**2': 512,\n",
       "   'm - mean_x**2': 512},\n",
       "  'numerator': 512,\n",
       "  'denominator': 1024,\n",
       "  'gamma*(numerator/denominator)+beta': 786432},\n",
       " 'ProjectToVocab': 15728640000,\n",
       " 'Blocks': {'LayerNorms': {'mean(x)': 3151872,\n",
       "   'var_x': {'X**2': 3145728,\n",
       "    'sum': 3145728,\n",
       "    '/ m': 6144,\n",
       "    'mean_x**2': 6144,\n",
       "    'm - mean_x**2': 6144},\n",
       "   'numerator': 6144,\n",
       "   'denominator': 12288,\n",
       "   'gamma*(numerator/denominator)+beta': 9437184},\n",
       "  'ResidualConnections': 3145728,\n",
       "  'MultiHeadAttention': {'Q * WQ': 1610612736.0,\n",
       "   'K * WK': 1610612736.0,\n",
       "   'V * WV': 1610612736.0,\n",
       "   'ScaledDotProductAttention': {'Q * K.T': 1610612736.0,\n",
       "    '/ sqrt(d_k)': 12582912,\n",
       "    '+ mask': 12582912,\n",
       "    'Softmax': {'x - max(x)': 12582912, 'e^x': 12582912, 'sum': 12582912},\n",
       "    '* V': 1610612736.0},\n",
       "   '* WO': 1610612736.0},\n",
       "  'PositionWiseFFN': {'* W1': 12884901888,\n",
       "   '+ b1': 24576,\n",
       "   '* W2': 12884901888,\n",
       "   '+ b2': 3072}}}"
      ]
     },
     "execution_count": 17,
     "metadata": {},
     "output_type": "execute_result"
    }
   ],
   "source": [
    "def count_dict(N, l, d_model, d_ff, n_vocab, n_layers, n_heads):\n",
    "    return Transformer(l, d_model, d_ff, n_vocab, n_layers, n_heads).flops_dict\n",
    "\n",
    "count_dict(\n",
    "    N=1,\n",
    "    l=512,\n",
    "    d_model=512,\n",
    "    d_ff=4096,\n",
    "    n_vocab=30000,\n",
    "    n_layers=6,\n",
    "    n_heads=8,\n",
    ")"
   ]
  },
  {
   "cell_type": "code",
   "execution_count": 18,
   "metadata": {},
   "outputs": [],
   "source": [
    "def tree_map(d, f):\n",
    "    return {k: tree_map(v, f) if isinstance(v, dict) else f(v) for k, v in d.items()}\n",
    "\n",
    "def percent_flops(N,l,d_model,d_ff,n_vocab,n_layers,n_heads):\n",
    "    total_flops = count_flops(N, l, d_model, d_ff, n_vocab, n_layers, n_heads)\n",
    "    return tree_map(\n",
    "        d=count_dict(N, l, d_model, d_ff, n_vocab, n_layers, n_heads),\n",
    "        f=lambda x: x / total_flops\n",
    "    )"
   ]
  },
  {
   "cell_type": "code",
   "execution_count": 19,
   "metadata": {},
   "outputs": [
    {
     "data": {
      "text/plain": [
       "{'Embeddings': {'X_word + X_pos': 5.115108268509576e-06},\n",
       " 'LayerNorm_Final': {'mean(x)': 5.125098714346509e-06,\n",
       "  'var_x': {'X**2': 5.115108268509576e-06,\n",
       "   'sum': 5.115108268509576e-06,\n",
       "   '/ m': 9.990445836932766e-09,\n",
       "   'mean_x**2': 9.990445836932766e-09,\n",
       "   'm - mean_x**2': 9.990445836932766e-09},\n",
       "  'numerator': 9.990445836932766e-09,\n",
       "  'denominator': 1.9980891673865532e-08,\n",
       "  'gamma*(numerator/denominator)+beta': 1.534532480552873e-05},\n",
       " 'ProjectToVocab': 0.3069064961105746,\n",
       " 'Blocks': {'LayerNorms': {'mean(x)': 6.150118457215811e-05,\n",
       "   'var_x': {'X**2': 6.138129922211491e-05,\n",
       "    'sum': 6.138129922211491e-05,\n",
       "    '/ m': 1.198853500431932e-07,\n",
       "    'mean_x**2': 1.198853500431932e-07,\n",
       "    'm - mean_x**2': 1.198853500431932e-07},\n",
       "   'numerator': 1.198853500431932e-07,\n",
       "   'denominator': 2.397707000863864e-07,\n",
       "   'gamma*(numerator/denominator)+beta': 0.00018414389766634474},\n",
       "  'ResidualConnections': 6.138129922211491e-05,\n",
       "  'MultiHeadAttention': {'Q * WQ': 0.031427225201722836,\n",
       "   'K * WK': 0.031427225201722836,\n",
       "   'V * WV': 0.031427225201722836,\n",
       "   'ScaledDotProductAttention': {'Q * K.T': 0.031427225201722836,\n",
       "    '/ sqrt(d_k)': 0.00024552519688845966,\n",
       "    '+ mask': 0.00024552519688845966,\n",
       "    'Softmax': {'x - max(x)': 0.00024552519688845966,\n",
       "     'e^x': 0.00024552519688845966,\n",
       "     'sum': 0.00024552519688845966},\n",
       "    '* V': 0.031427225201722836},\n",
       "   '* WO': 0.031427225201722836},\n",
       "  'PositionWiseFFN': {'* W1': 0.2514178016137827,\n",
       "   '+ b1': 4.795414001727728e-07,\n",
       "   '* W2': 0.2514178016137827,\n",
       "   '+ b2': 5.99426750215966e-08}}}"
      ]
     },
     "execution_count": 19,
     "metadata": {},
     "output_type": "execute_result"
    }
   ],
   "source": [
    "percent_flops(\n",
    "    N=1,\n",
    "    l=512,\n",
    "    d_model=512,\n",
    "    d_ff=4096,\n",
    "    n_vocab=30000,\n",
    "    n_layers=6,\n",
    "    n_heads=8,\n",
    ")"
   ]
  },
  {
   "cell_type": "code",
   "execution_count": 20,
   "metadata": {},
   "outputs": [],
   "source": [
    "def analysis(\n",
    "    N,\n",
    "    l,\n",
    "    d_model,\n",
    "    d_ff,\n",
    "    n_vocab,\n",
    "    n_layers,\n",
    "    n_heads,\n",
    "):\n",
    "    keys={\n",
    "        \"Embeddings\",\n",
    "        \"LayerNorm_Final\",\n",
    "        \"LayerNorms\",\n",
    "        \"PositionWiseFFN\",\n",
    "        \"ScaledDotProductAttention\",\n",
    "    }\n",
    "\n",
    "    _count = lambda d: sum(_count(v) if isinstance(v, dict) else v for v in d.values())\n",
    "\n",
    "    def gather(d):\n",
    "        if not isinstance(d, dict):\n",
    "            return d\n",
    "        return {k: _count(v) if k in keys else gather(v) for k, v in d.items()}\n",
    "\n",
    "    flops = count_dict(N, l, d_model, d_ff, n_vocab, n_layers, n_heads)\n",
    "    total_flops = count_flops(N, l, d_model, d_ff, n_vocab, n_layers, n_heads)\n",
    "\n",
    "    counts = gather(flops)\n",
    "    counts[\"LayerNorms\"] = counts.pop(\"LayerNorm_Final\") + counts[\"Blocks\"].pop(\"LayerNorms\")\n",
    "    counts.update(counts.pop(\"Blocks\"))\n",
    "    counts.update(counts.pop(\"MultiHeadAttention\"))\n",
    "\n",
    "    percentages = tree_map(d=counts, f=lambda x: x / total_flops)\n",
    "    return counts, percentages\n"
   ]
  },
  {
   "cell_type": "code",
   "execution_count": 21,
   "metadata": {},
   "outputs": [
    {
     "data": {
      "text/plain": [
       "{'Embeddings': 7.566801465307276e-08,\n",
       " 'ProjectToVocab': 0.007748404700474651,\n",
       " 'LayerNorms': 5.86004067287985e-05,\n",
       " 'ResidualConnections': 9.685505875593314e-06,\n",
       " 'PositionWiseFFN': 0.6347493248860107,\n",
       " 'Q * WQ': 0.07934366413286043,\n",
       " 'K * WK': 0.07934366413286043,\n",
       " 'V * WV': 0.07934366413286043,\n",
       " 'ScaledDotProductAttention': 0.04005925230145394,\n",
       " '* WO': 0.07934366413286043}"
      ]
     },
     "execution_count": 21,
     "metadata": {},
     "output_type": "execute_result"
    }
   ],
   "source": [
    "analysis(\n",
    "    N=1,\n",
    "    l=2048,\n",
    "    d_model=8192,\n",
    "    d_ff=32768,\n",
    "    n_vocab=51200,\n",
    "    n_layers=64,\n",
    "    n_heads=64,\n",
    ")[1]"
   ]
  },
  {
   "cell_type": "code",
   "execution_count": 22,
   "metadata": {},
   "outputs": [
    {
     "data": {
      "text/plain": [
       "{'Embeddings': 1.119801735515862e-06,\n",
       " 'ProjectToVocab': 0.11466769771682427,\n",
       " 'LayerNorms': 0.00032940925516123466,\n",
       " 'ResidualConnections': 5.375048330476138e-05,\n",
       " 'PositionWiseFFN': 0.44032402484598815,\n",
       " 'Q * WQ': 0.05504049490407565,\n",
       " 'K * WK': 0.05504049490407565,\n",
       " 'V * WV': 0.05504049490407565,\n",
       " 'ScaledDotProductAttention': 0.2244620182806835,\n",
       " '* WO': 0.05504049490407565}"
      ]
     },
     "execution_count": 22,
     "metadata": {},
     "output_type": "execute_result"
    }
   ],
   "source": [
    "analysis(\n",
    "    N=1,\n",
    "    l=2048,\n",
    "    d_model=1024,\n",
    "    d_ff=4096,\n",
    "    n_vocab=51200,\n",
    "    n_layers=24,\n",
    "    n_heads=16\n",
    ")[1]"
   ]
  },
  {
   "cell_type": "code",
   "execution_count": 36,
   "metadata": {},
   "outputs": [
    {
     "data": {
      "application/vnd.plotly.v1+json": {
       "config": {
        "plotlyServerURL": "https://plot.ly"
       },
       "data": [
        {
         "type": "bar",
         "x": [
          "Embeddings",
          "ProjectToVocab",
          "LayerNorms",
          "ResidualConnections",
          "PositionWiseFFN",
          "Q * WQ",
          "K * WK",
          "V * WV",
          "ScaledDotProductAttention",
          "* WO"
         ],
         "y": [
          0.000001119801735515862,
          0.11466769771682427,
          0.00032940925516123466,
          0.00005375048330476138,
          0.44032402484598815,
          0.05504049490407565,
          0.05504049490407565,
          0.05504049490407565,
          0.2244620182806835,
          0.05504049490407565
         ]
        }
       ],
       "layout": {
        "template": {
         "data": {
          "bar": [
           {
            "error_x": {
             "color": "#2a3f5f"
            },
            "error_y": {
             "color": "#2a3f5f"
            },
            "marker": {
             "line": {
              "color": "#E5ECF6",
              "width": 0.5
             },
             "pattern": {
              "fillmode": "overlay",
              "size": 10,
              "solidity": 0.2
             }
            },
            "type": "bar"
           }
          ],
          "barpolar": [
           {
            "marker": {
             "line": {
              "color": "#E5ECF6",
              "width": 0.5
             },
             "pattern": {
              "fillmode": "overlay",
              "size": 10,
              "solidity": 0.2
             }
            },
            "type": "barpolar"
           }
          ],
          "carpet": [
           {
            "aaxis": {
             "endlinecolor": "#2a3f5f",
             "gridcolor": "white",
             "linecolor": "white",
             "minorgridcolor": "white",
             "startlinecolor": "#2a3f5f"
            },
            "baxis": {
             "endlinecolor": "#2a3f5f",
             "gridcolor": "white",
             "linecolor": "white",
             "minorgridcolor": "white",
             "startlinecolor": "#2a3f5f"
            },
            "type": "carpet"
           }
          ],
          "choropleth": [
           {
            "colorbar": {
             "outlinewidth": 0,
             "ticks": ""
            },
            "type": "choropleth"
           }
          ],
          "contour": [
           {
            "colorbar": {
             "outlinewidth": 0,
             "ticks": ""
            },
            "colorscale": [
             [
              0,
              "#0d0887"
             ],
             [
              0.1111111111111111,
              "#46039f"
             ],
             [
              0.2222222222222222,
              "#7201a8"
             ],
             [
              0.3333333333333333,
              "#9c179e"
             ],
             [
              0.4444444444444444,
              "#bd3786"
             ],
             [
              0.5555555555555556,
              "#d8576b"
             ],
             [
              0.6666666666666666,
              "#ed7953"
             ],
             [
              0.7777777777777778,
              "#fb9f3a"
             ],
             [
              0.8888888888888888,
              "#fdca26"
             ],
             [
              1,
              "#f0f921"
             ]
            ],
            "type": "contour"
           }
          ],
          "contourcarpet": [
           {
            "colorbar": {
             "outlinewidth": 0,
             "ticks": ""
            },
            "type": "contourcarpet"
           }
          ],
          "heatmap": [
           {
            "colorbar": {
             "outlinewidth": 0,
             "ticks": ""
            },
            "colorscale": [
             [
              0,
              "#0d0887"
             ],
             [
              0.1111111111111111,
              "#46039f"
             ],
             [
              0.2222222222222222,
              "#7201a8"
             ],
             [
              0.3333333333333333,
              "#9c179e"
             ],
             [
              0.4444444444444444,
              "#bd3786"
             ],
             [
              0.5555555555555556,
              "#d8576b"
             ],
             [
              0.6666666666666666,
              "#ed7953"
             ],
             [
              0.7777777777777778,
              "#fb9f3a"
             ],
             [
              0.8888888888888888,
              "#fdca26"
             ],
             [
              1,
              "#f0f921"
             ]
            ],
            "type": "heatmap"
           }
          ],
          "heatmapgl": [
           {
            "colorbar": {
             "outlinewidth": 0,
             "ticks": ""
            },
            "colorscale": [
             [
              0,
              "#0d0887"
             ],
             [
              0.1111111111111111,
              "#46039f"
             ],
             [
              0.2222222222222222,
              "#7201a8"
             ],
             [
              0.3333333333333333,
              "#9c179e"
             ],
             [
              0.4444444444444444,
              "#bd3786"
             ],
             [
              0.5555555555555556,
              "#d8576b"
             ],
             [
              0.6666666666666666,
              "#ed7953"
             ],
             [
              0.7777777777777778,
              "#fb9f3a"
             ],
             [
              0.8888888888888888,
              "#fdca26"
             ],
             [
              1,
              "#f0f921"
             ]
            ],
            "type": "heatmapgl"
           }
          ],
          "histogram": [
           {
            "marker": {
             "pattern": {
              "fillmode": "overlay",
              "size": 10,
              "solidity": 0.2
             }
            },
            "type": "histogram"
           }
          ],
          "histogram2d": [
           {
            "colorbar": {
             "outlinewidth": 0,
             "ticks": ""
            },
            "colorscale": [
             [
              0,
              "#0d0887"
             ],
             [
              0.1111111111111111,
              "#46039f"
             ],
             [
              0.2222222222222222,
              "#7201a8"
             ],
             [
              0.3333333333333333,
              "#9c179e"
             ],
             [
              0.4444444444444444,
              "#bd3786"
             ],
             [
              0.5555555555555556,
              "#d8576b"
             ],
             [
              0.6666666666666666,
              "#ed7953"
             ],
             [
              0.7777777777777778,
              "#fb9f3a"
             ],
             [
              0.8888888888888888,
              "#fdca26"
             ],
             [
              1,
              "#f0f921"
             ]
            ],
            "type": "histogram2d"
           }
          ],
          "histogram2dcontour": [
           {
            "colorbar": {
             "outlinewidth": 0,
             "ticks": ""
            },
            "colorscale": [
             [
              0,
              "#0d0887"
             ],
             [
              0.1111111111111111,
              "#46039f"
             ],
             [
              0.2222222222222222,
              "#7201a8"
             ],
             [
              0.3333333333333333,
              "#9c179e"
             ],
             [
              0.4444444444444444,
              "#bd3786"
             ],
             [
              0.5555555555555556,
              "#d8576b"
             ],
             [
              0.6666666666666666,
              "#ed7953"
             ],
             [
              0.7777777777777778,
              "#fb9f3a"
             ],
             [
              0.8888888888888888,
              "#fdca26"
             ],
             [
              1,
              "#f0f921"
             ]
            ],
            "type": "histogram2dcontour"
           }
          ],
          "mesh3d": [
           {
            "colorbar": {
             "outlinewidth": 0,
             "ticks": ""
            },
            "type": "mesh3d"
           }
          ],
          "parcoords": [
           {
            "line": {
             "colorbar": {
              "outlinewidth": 0,
              "ticks": ""
             }
            },
            "type": "parcoords"
           }
          ],
          "pie": [
           {
            "automargin": true,
            "type": "pie"
           }
          ],
          "scatter": [
           {
            "fillpattern": {
             "fillmode": "overlay",
             "size": 10,
             "solidity": 0.2
            },
            "type": "scatter"
           }
          ],
          "scatter3d": [
           {
            "line": {
             "colorbar": {
              "outlinewidth": 0,
              "ticks": ""
             }
            },
            "marker": {
             "colorbar": {
              "outlinewidth": 0,
              "ticks": ""
             }
            },
            "type": "scatter3d"
           }
          ],
          "scattercarpet": [
           {
            "marker": {
             "colorbar": {
              "outlinewidth": 0,
              "ticks": ""
             }
            },
            "type": "scattercarpet"
           }
          ],
          "scattergeo": [
           {
            "marker": {
             "colorbar": {
              "outlinewidth": 0,
              "ticks": ""
             }
            },
            "type": "scattergeo"
           }
          ],
          "scattergl": [
           {
            "marker": {
             "colorbar": {
              "outlinewidth": 0,
              "ticks": ""
             }
            },
            "type": "scattergl"
           }
          ],
          "scattermapbox": [
           {
            "marker": {
             "colorbar": {
              "outlinewidth": 0,
              "ticks": ""
             }
            },
            "type": "scattermapbox"
           }
          ],
          "scatterpolar": [
           {
            "marker": {
             "colorbar": {
              "outlinewidth": 0,
              "ticks": ""
             }
            },
            "type": "scatterpolar"
           }
          ],
          "scatterpolargl": [
           {
            "marker": {
             "colorbar": {
              "outlinewidth": 0,
              "ticks": ""
             }
            },
            "type": "scatterpolargl"
           }
          ],
          "scatterternary": [
           {
            "marker": {
             "colorbar": {
              "outlinewidth": 0,
              "ticks": ""
             }
            },
            "type": "scatterternary"
           }
          ],
          "surface": [
           {
            "colorbar": {
             "outlinewidth": 0,
             "ticks": ""
            },
            "colorscale": [
             [
              0,
              "#0d0887"
             ],
             [
              0.1111111111111111,
              "#46039f"
             ],
             [
              0.2222222222222222,
              "#7201a8"
             ],
             [
              0.3333333333333333,
              "#9c179e"
             ],
             [
              0.4444444444444444,
              "#bd3786"
             ],
             [
              0.5555555555555556,
              "#d8576b"
             ],
             [
              0.6666666666666666,
              "#ed7953"
             ],
             [
              0.7777777777777778,
              "#fb9f3a"
             ],
             [
              0.8888888888888888,
              "#fdca26"
             ],
             [
              1,
              "#f0f921"
             ]
            ],
            "type": "surface"
           }
          ],
          "table": [
           {
            "cells": {
             "fill": {
              "color": "#EBF0F8"
             },
             "line": {
              "color": "white"
             }
            },
            "header": {
             "fill": {
              "color": "#C8D4E3"
             },
             "line": {
              "color": "white"
             }
            },
            "type": "table"
           }
          ]
         },
         "layout": {
          "annotationdefaults": {
           "arrowcolor": "#2a3f5f",
           "arrowhead": 0,
           "arrowwidth": 1
          },
          "autotypenumbers": "strict",
          "coloraxis": {
           "colorbar": {
            "outlinewidth": 0,
            "ticks": ""
           }
          },
          "colorscale": {
           "diverging": [
            [
             0,
             "#8e0152"
            ],
            [
             0.1,
             "#c51b7d"
            ],
            [
             0.2,
             "#de77ae"
            ],
            [
             0.3,
             "#f1b6da"
            ],
            [
             0.4,
             "#fde0ef"
            ],
            [
             0.5,
             "#f7f7f7"
            ],
            [
             0.6,
             "#e6f5d0"
            ],
            [
             0.7,
             "#b8e186"
            ],
            [
             0.8,
             "#7fbc41"
            ],
            [
             0.9,
             "#4d9221"
            ],
            [
             1,
             "#276419"
            ]
           ],
           "sequential": [
            [
             0,
             "#0d0887"
            ],
            [
             0.1111111111111111,
             "#46039f"
            ],
            [
             0.2222222222222222,
             "#7201a8"
            ],
            [
             0.3333333333333333,
             "#9c179e"
            ],
            [
             0.4444444444444444,
             "#bd3786"
            ],
            [
             0.5555555555555556,
             "#d8576b"
            ],
            [
             0.6666666666666666,
             "#ed7953"
            ],
            [
             0.7777777777777778,
             "#fb9f3a"
            ],
            [
             0.8888888888888888,
             "#fdca26"
            ],
            [
             1,
             "#f0f921"
            ]
           ],
           "sequentialminus": [
            [
             0,
             "#0d0887"
            ],
            [
             0.1111111111111111,
             "#46039f"
            ],
            [
             0.2222222222222222,
             "#7201a8"
            ],
            [
             0.3333333333333333,
             "#9c179e"
            ],
            [
             0.4444444444444444,
             "#bd3786"
            ],
            [
             0.5555555555555556,
             "#d8576b"
            ],
            [
             0.6666666666666666,
             "#ed7953"
            ],
            [
             0.7777777777777778,
             "#fb9f3a"
            ],
            [
             0.8888888888888888,
             "#fdca26"
            ],
            [
             1,
             "#f0f921"
            ]
           ]
          },
          "colorway": [
           "#636efa",
           "#EF553B",
           "#00cc96",
           "#ab63fa",
           "#FFA15A",
           "#19d3f3",
           "#FF6692",
           "#B6E880",
           "#FF97FF",
           "#FECB52"
          ],
          "font": {
           "color": "#2a3f5f"
          },
          "geo": {
           "bgcolor": "white",
           "lakecolor": "white",
           "landcolor": "#E5ECF6",
           "showlakes": true,
           "showland": true,
           "subunitcolor": "white"
          },
          "hoverlabel": {
           "align": "left"
          },
          "hovermode": "closest",
          "mapbox": {
           "style": "light"
          },
          "paper_bgcolor": "white",
          "plot_bgcolor": "#E5ECF6",
          "polar": {
           "angularaxis": {
            "gridcolor": "white",
            "linecolor": "white",
            "ticks": ""
           },
           "bgcolor": "#E5ECF6",
           "radialaxis": {
            "gridcolor": "white",
            "linecolor": "white",
            "ticks": ""
           }
          },
          "scene": {
           "xaxis": {
            "backgroundcolor": "#E5ECF6",
            "gridcolor": "white",
            "gridwidth": 2,
            "linecolor": "white",
            "showbackground": true,
            "ticks": "",
            "zerolinecolor": "white"
           },
           "yaxis": {
            "backgroundcolor": "#E5ECF6",
            "gridcolor": "white",
            "gridwidth": 2,
            "linecolor": "white",
            "showbackground": true,
            "ticks": "",
            "zerolinecolor": "white"
           },
           "zaxis": {
            "backgroundcolor": "#E5ECF6",
            "gridcolor": "white",
            "gridwidth": 2,
            "linecolor": "white",
            "showbackground": true,
            "ticks": "",
            "zerolinecolor": "white"
           }
          },
          "shapedefaults": {
           "line": {
            "color": "#2a3f5f"
           }
          },
          "ternary": {
           "aaxis": {
            "gridcolor": "white",
            "linecolor": "white",
            "ticks": ""
           },
           "baxis": {
            "gridcolor": "white",
            "linecolor": "white",
            "ticks": ""
           },
           "bgcolor": "#E5ECF6",
           "caxis": {
            "gridcolor": "white",
            "linecolor": "white",
            "ticks": ""
           }
          },
          "title": {
           "x": 0.05
          },
          "xaxis": {
           "automargin": true,
           "gridcolor": "white",
           "linecolor": "white",
           "ticks": "",
           "title": {
            "standoff": 15
           },
           "zerolinecolor": "white",
           "zerolinewidth": 2
          },
          "yaxis": {
           "automargin": true,
           "gridcolor": "white",
           "linecolor": "white",
           "ticks": "",
           "title": {
            "standoff": 15
           },
           "zerolinecolor": "white",
           "zerolinewidth": 2
          }
         }
        },
        "yaxis": {
         "range": [
          0,
          1
         ]
        }
       }
      }
     },
     "metadata": {},
     "output_type": "display_data"
    }
   ],
   "source": [
    "import plotly.graph_objects as go\n",
    "\n",
    "\n",
    "\n",
    "fig = go.Figure(go.Bar(x=x, y=y))\n",
    "fig.update_yaxes(range=[0,1]) \n",
    "\n",
    "# fig.update_traces(overwrite=True, marker={\"opacity\": 0.4})\n",
    "\n",
    "fig.show()\n"
   ]
  },
  {
   "cell_type": "code",
   "execution_count": null,
   "metadata": {},
   "outputs": [],
   "source": []
  },
  {
   "cell_type": "code",
   "execution_count": 24,
   "metadata": {},
   "outputs": [],
   "source": [
    "from model import Transformer, count, repeat, tree_map\n",
    "\n",
    "def analysis(\n",
    "    N,\n",
    "    l,\n",
    "    d_model,\n",
    "    d_ff,\n",
    "    n_vocab,\n",
    "    n_layers,\n",
    "    n_heads,\n",
    "):\n",
    "    def count_dict(N, l, d_model, d_ff, n_vocab, n_layers, n_heads):\n",
    "        return repeat(\n",
    "            Transformer(l, d_model, d_ff, n_vocab, n_layers, n_heads).flops_dict, N\n",
    "        )\n",
    "\n",
    "    keys = {\n",
    "        \"Embeddings\",\n",
    "        \"LayerNorm_Final\",\n",
    "        \"LayerNorms\",\n",
    "        \"PositionWiseFFN\",\n",
    "        \"ScaledDotProductAttention\",\n",
    "    }\n",
    "\n",
    "    _count = lambda d: sum(_count(v) if isinstance(v, dict) else v for v in d.values())\n",
    "\n",
    "    def gather(d):\n",
    "        if not isinstance(d, dict):\n",
    "            return d\n",
    "        return {k: _count(v) if k in keys else gather(v) for k, v in d.items()}\n",
    "\n",
    "    flops = count_dict(N, l, d_model, d_ff, n_vocab, n_layers, n_heads)\n",
    "    total_flops = count(flops)\n",
    "\n",
    "    counts = gather(flops)\n",
    "    counts[\"LayerNorms\"] = counts.pop(\"LayerNorm_Final\") + counts[\"Blocks\"].pop(\n",
    "        \"LayerNorms\"\n",
    "    )\n",
    "    counts.update(counts.pop(\"Blocks\"))\n",
    "    counts.update(counts.pop(\"MultiHeadAttention\"))\n",
    "\n",
    "    percentages = tree_map(d=counts, f=lambda x: x / total_flops)\n",
    "    return counts, percentages"
   ]
  },
  {
   "cell_type": "code",
   "execution_count": null,
   "metadata": {},
   "outputs": [],
   "source": []
  }
 ],
 "metadata": {
  "kernelspec": {
   "display_name": "Python 3.9.10 ('.venv': poetry)",
   "language": "python",
   "name": "python3"
  },
  "language_info": {
   "codemirror_mode": {
    "name": "ipython",
    "version": 3
   },
   "file_extension": ".py",
   "mimetype": "text/x-python",
   "name": "python",
   "nbconvert_exporter": "python",
   "pygments_lexer": "ipython3",
   "version": "3.9.10"
  },
  "orig_nbformat": 4,
  "vscode": {
   "interpreter": {
    "hash": "78390258ae02e8eebb2cdc3e6aac777069bf4e388405381e133efb4d26cd8b8f"
   }
  }
 },
 "nbformat": 4,
 "nbformat_minor": 2
}
